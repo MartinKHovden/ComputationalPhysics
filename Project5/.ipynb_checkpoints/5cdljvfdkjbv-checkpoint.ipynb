{
 "cells": [
  {
   "cell_type": "markdown",
   "metadata": {},
   "source": [
    "# PART 5C "
   ]
  },
  {
   "cell_type": "markdown",
   "metadata": {},
   "source": [
    "## Initializing all the parameters"
   ]
  },
  {
   "cell_type": "code",
   "execution_count": 1,
   "metadata": {},
   "outputs": [],
   "source": [
    "from diffusion_solvers import forward_euler, backward_euler, crank_nicolson\n",
    "import numpy as np \n",
    "import matplotlib.pyplot as plt\n",
    "\n",
    "x_min = 0\n",
    "x_max = 1\n",
    "\n",
    "dx = 0.1\n",
    "dt = 1e-3\n",
    "\n",
    "t = 1\n",
    "\n",
    "num_x_values = (x_max - x_min)/dx\n",
    "num_t_values = t/dt\n",
    "\n",
    "x_values = np.linspace(x_min, x_max, num_x_values +1)\n",
    "t_values = np.linspace(0, t, num_t_values+1)\n",
    "\n",
    "g = (lambda x : 0)\n",
    "a = (lambda t : 0)\n",
    "b = (lambda t : 1)"
   ]
  },
  {
   "cell_type": "code",
   "execution_count": 3,
   "metadata": {},
   "outputs": [
    {
     "name": "stdout",
     "output_type": "stream",
     "text": [
      "time used:  0.0  seconds\n"
     ]
    },
    {
     "data": {
      "text/plain": [
       "[<matplotlib.lines.Line2D at 0x290f0b7ae10>]"
      ]
     },
     "execution_count": 3,
     "metadata": {},
     "output_type": "execute_result"
    },
    {
     "data": {
      "image/png": "[encoded data removed]",
      "text/plain": [
       "<Figure size 432x288 with 1 Axes>"
      ]
     },
     "metadata": {
      "needs_background": "light"
     },
     "output_type": "display_data"
    }
   ],
   "source": [
    "u_forward_euler = forward_euler(x_min, x_max, dx, dt, t, g, a, b)\n",
    "plt.plot(x_values, u_forward_euler[100,:])"
   ]
  },
  {
   "cell_type": "code",
   "execution_count": null,
   "metadata": {},
   "outputs": [],
   "source": [
    "u_backward_euler = backward_euler(x_min, x_max, dx, dt, t, g, a, b)\n",
    "plt.plot(x_values, u_backward_euler[100,:])"
   ]
  },
  {
   "cell_type": "code",
   "execution_count": 4,
   "metadata": {},
   "outputs": [
    {
     "name": "stdout",
     "output_type": "stream",
     "text": [
      "[[   1.    0.    0.    0.    0.    0.    0.    0.    0.    0.    0.]\n",
      " [-100.  200. -100.    0.    0.    0.    0.    0.    0.    0.    0.]\n",
      " [   0. -100.  200. -100.    0.    0.    0.    0.    0.    0.    0.]\n",
      " [   0.    0. -100.  200. -100.    0.    0.    0.    0.    0.    0.]\n",
      " [   0.    0.    0. -100.  200. -100.    0.    0.    0.    0.    0.]\n",
      " [   0.    0.    0.    0. -100.  200. -100.    0.    0.    0.    0.]\n",
      " [   0.    0.    0.    0.    0. -100.  200. -100.    0.    0.    0.]\n",
      " [   0.    0.    0.    0.    0.    0. -100.  200. -100.    0.    0.]\n",
      " [   0.    0.    0.    0.    0.    0.    0. -100.  200. -100.    0.]\n",
      " [   0.    0.    0.    0.    0.    0.    0.    0. -100.  200. -100.]\n",
      " [   0.    0.    0.    0.    0.    0.    0.    0.    0.    0.    1.]]\n",
      "[[0.00000000e+00 0.00000000e+00 0.00000000e+00 ... 0.00000000e+00\n",
      "  0.00000000e+00 1.00000000e+00]\n",
      " [0.00000000e+00 1.68347890e-12 3.70365358e-11 ... 4.14732179e-03\n",
      "  9.10521737e-02 1.00000000e+00]\n",
      " [0.00000000e+00 2.76496009e-11 5.40952065e-10 ... 1.51438780e-02\n",
      "  1.66237765e-01 1.00000000e+00]\n",
      " ...\n",
      " [0.00000000e+00 9.99388732e-02 1.99878838e-01 ... 7.99578988e-01\n",
      "  8.99539073e-01 1.00000000e+00]\n",
      " [0.00000000e+00 9.99389818e-02 1.99879045e-01 ... 7.99579195e-01\n",
      "  8.99539182e-01 1.00000000e+00]\n",
      " [0.00000000e+00 9.99390894e-02 1.99879249e-01 ... 7.99579399e-01\n",
      "  8.99539289e-01 1.00000000e+00]]\n",
      "time used:  2.9255850315093994  seconds\n"
     ]
    },
    {
     "data": {
      "text/plain": [
       "[<matplotlib.lines.Line2D at 0x290f21b9080>]"
      ]
     },
     "execution_count": 4,
     "metadata": {},
     "output_type": "execute_result"
    },
    {
     "data": {
      "image/png": "[encoded data removed]",
      "text/plain": [
       "<Figure size 432x288 with 1 Axes>"
      ]
     },
     "metadata": {
      "needs_background": "light"
     },
     "output_type": "display_data"
    }
   ],
   "source": [
    "u_cn = crank_nicolson(x_min, x_max, dx, dt, t, g, a, b)\n",
    "plt.plot(x_values, u_cn[100,:])"
   ]
  }
 ],
 "metadata": {
  "kernelspec": {
   "display_name": "Python 3",
   "language": "python",
   "name": "python3"
  },
  "language_info": {
   "codemirror_mode": {
    "name": "ipython",
    "version": 3
   },
   "file_extension": ".py",
   "mimetype": "text/x-python",
   "name": "python",
   "nbconvert_exporter": "python",
   "pygments_lexer": "ipython3",
   "version": "3.7.1"
  }
 },
 "nbformat": 4,
 "nbformat_minor": 4
}
